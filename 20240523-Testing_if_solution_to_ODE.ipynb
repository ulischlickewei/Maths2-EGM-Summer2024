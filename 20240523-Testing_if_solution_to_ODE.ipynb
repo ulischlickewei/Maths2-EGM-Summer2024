{
 "cells": [
  {
   "cell_type": "code",
   "execution_count": 1,
   "id": "fa6ed7c2-c3ed-4d30-8fa0-1adb52ad5682",
   "metadata": {},
   "outputs": [],
   "source": [
    "from sympy import *"
   ]
  },
  {
   "cell_type": "code",
   "execution_count": 2,
   "id": "a9c51e1d-48ae-4cf5-95f9-ff287765e2c6",
   "metadata": {},
   "outputs": [
    {
     "data": {
      "text/latex": [
       "$\\displaystyle 0$"
      ],
      "text/plain": [
       "0"
      ]
     },
     "execution_count": 2,
     "metadata": {},
     "output_type": "execute_result"
    }
   ],
   "source": [
    "x = symbols('x')\n",
    "fA = sin(x)\n",
    "diff(fA,x,2) + fA"
   ]
  },
  {
   "cell_type": "code",
   "execution_count": 3,
   "id": "3056de2c-6637-4cde-aa0d-325f6abe037b",
   "metadata": {},
   "outputs": [
    {
     "data": {
      "text/latex": [
       "$\\displaystyle \\cos{\\left(x \\right)}$"
      ],
      "text/plain": [
       "cos(x)"
      ]
     },
     "execution_count": 3,
     "metadata": {},
     "output_type": "execute_result"
    }
   ],
   "source": [
    "fB = 1/S(2) * x * sin(x)\n",
    "diff(fB,x,2) + fB"
   ]
  },
  {
   "cell_type": "code",
   "execution_count": null,
   "id": "29c3b61a-8aa5-4518-8777-9927dd98ed41",
   "metadata": {},
   "outputs": [],
   "source": []
  }
 ],
 "metadata": {
  "kernelspec": {
   "display_name": "Python 3 (ipykernel)",
   "language": "python",
   "name": "python3"
  },
  "language_info": {
   "codemirror_mode": {
    "name": "ipython",
    "version": 3
   },
   "file_extension": ".py",
   "mimetype": "text/x-python",
   "name": "python",
   "nbconvert_exporter": "python",
   "pygments_lexer": "ipython3",
   "version": "3.9.7"
  }
 },
 "nbformat": 4,
 "nbformat_minor": 5
}
