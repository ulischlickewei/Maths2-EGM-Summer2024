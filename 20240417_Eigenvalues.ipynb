{
  "nbformat": 4,
  "nbformat_minor": 0,
  "metadata": {
    "colab": {
      "provenance": [],
      "authorship_tag": "ABX9TyNh96tDEx6UPmD0x3IcA1i4",
      "include_colab_link": true
    },
    "kernelspec": {
      "name": "python3",
      "display_name": "Python 3"
    },
    "language_info": {
      "name": "python"
    }
  },
  "cells": [
    {
      "cell_type": "markdown",
      "metadata": {
        "id": "view-in-github",
        "colab_type": "text"
      },
      "source": [
        "<a href=\"https://colab.research.google.com/github/ulischlickewei/Maths2-EGM-Summer2024/blob/main/20240417_Eigenvalues.ipynb\" target=\"_parent\"><img src=\"https://colab.research.google.com/assets/colab-badge.svg\" alt=\"Open In Colab\"/></a>"
      ]
    },
    {
      "cell_type": "code",
      "execution_count": null,
      "metadata": {
        "id": "rI-wVTUAjT98"
      },
      "outputs": [],
      "source": [
        "from sympy import *"
      ]
    },
    {
      "cell_type": "code",
      "source": [
        "A = Matrix([[2,3],\n",
        "            [3,-6]])\n",
        "A"
      ],
      "metadata": {
        "colab": {
          "base_uri": "https://localhost:8080/",
          "height": 58
        },
        "id": "_pCnuwUQjY4k",
        "outputId": "7c482948-22c7-4a4e-a270-81a8a549631b"
      },
      "execution_count": null,
      "outputs": [
        {
          "output_type": "execute_result",
          "data": {
            "text/plain": [
              "Matrix([\n",
              "[2,  3],\n",
              "[3, -6]])"
            ],
            "text/latex": "$\\displaystyle \\left[\\begin{matrix}2 & 3\\\\3 & -6\\end{matrix}\\right]$"
          },
          "metadata": {},
          "execution_count": 2
        }
      ]
    },
    {
      "cell_type": "code",
      "source": [
        "eig = A.eigenvects()\n",
        "eig"
      ],
      "metadata": {
        "colab": {
          "base_uri": "https://localhost:8080/"
        },
        "id": "FArwq-L8ji7v",
        "outputId": "eec2148e-e98e-44b5-b3bd-57d3e285c46e"
      },
      "execution_count": null,
      "outputs": [
        {
          "output_type": "execute_result",
          "data": {
            "text/plain": [
              "[(-7,\n",
              "  1,\n",
              "  [Matrix([\n",
              "   [-1/3],\n",
              "   [   1]])]),\n",
              " (3,\n",
              "  1,\n",
              "  [Matrix([\n",
              "   [3],\n",
              "   [1]])])]"
            ]
          },
          "metadata": {},
          "execution_count": 5
        }
      ]
    },
    {
      "cell_type": "code",
      "source": [
        "eig[0]"
      ],
      "metadata": {
        "colab": {
          "base_uri": "https://localhost:8080/"
        },
        "id": "66Cu3V4yjoh3",
        "outputId": "60688f63-6c25-4dae-c1e1-bbebfe6ab3b5"
      },
      "execution_count": null,
      "outputs": [
        {
          "output_type": "execute_result",
          "data": {
            "text/plain": [
              "(-7,\n",
              " 1,\n",
              " [Matrix([\n",
              "  [-1/3],\n",
              "  [   1]])])"
            ]
          },
          "metadata": {},
          "execution_count": 6
        }
      ]
    },
    {
      "cell_type": "code",
      "source": [
        "B = Matrix([[1,0,0],\n",
        "            [0,1,0],\n",
        "            [0,0,3]])\n",
        "B"
      ],
      "metadata": {
        "colab": {
          "base_uri": "https://localhost:8080/",
          "height": 78
        },
        "id": "plKUdUCNjuZr",
        "outputId": "f2fe1007-815d-4fa5-c636-2add1c3a835f"
      },
      "execution_count": null,
      "outputs": [
        {
          "output_type": "execute_result",
          "data": {
            "text/plain": [
              "Matrix([\n",
              "[1, 0, 0],\n",
              "[0, 1, 0],\n",
              "[0, 0, 3]])"
            ],
            "text/latex": "$\\displaystyle \\left[\\begin{matrix}1 & 0 & 0\\\\0 & 1 & 0\\\\0 & 0 & 3\\end{matrix}\\right]$"
          },
          "metadata": {},
          "execution_count": 7
        }
      ]
    },
    {
      "cell_type": "code",
      "source": [
        "B.eigenvects()"
      ],
      "metadata": {
        "colab": {
          "base_uri": "https://localhost:8080/"
        },
        "id": "_GfFLw2MkJMX",
        "outputId": "205b214b-3cd6-4d9b-fdf7-7ed3541379a7"
      },
      "execution_count": null,
      "outputs": [
        {
          "output_type": "execute_result",
          "data": {
            "text/plain": [
              "[(1,\n",
              "  2,\n",
              "  [Matrix([\n",
              "   [1],\n",
              "   [0],\n",
              "   [0]]),\n",
              "   Matrix([\n",
              "   [0],\n",
              "   [1],\n",
              "   [0]])]),\n",
              " (3,\n",
              "  1,\n",
              "  [Matrix([\n",
              "   [0],\n",
              "   [0],\n",
              "   [1]])])]"
            ]
          },
          "metadata": {},
          "execution_count": 8
        }
      ]
    },
    {
      "cell_type": "code",
      "source": [
        "B.charpoly()"
      ],
      "metadata": {
        "colab": {
          "base_uri": "https://localhost:8080/",
          "height": 38
        },
        "id": "25vv8SYmkLWP",
        "outputId": "f1dcfb39-3e20-43fb-f72c-e6b8d61d00f2"
      },
      "execution_count": null,
      "outputs": [
        {
          "output_type": "execute_result",
          "data": {
            "text/plain": [
              "PurePoly(lambda**3 - 5*lambda**2 + 7*lambda - 3, lambda, domain='ZZ')"
            ],
            "text/latex": "$\\displaystyle \\operatorname{PurePoly}{\\left( \\lambda^{3} - 5 \\lambda^{2} + 7 \\lambda - 3, \\lambda, domain=\\mathbb{Z} \\right)}$"
          },
          "metadata": {},
          "execution_count": 11
        }
      ]
    },
    {
      "cell_type": "code",
      "source": [
        "C = Matrix([[1,1,0],\n",
        "            [0,1,0],\n",
        "            [0,0,3]])\n",
        "C"
      ],
      "metadata": {
        "colab": {
          "base_uri": "https://localhost:8080/",
          "height": 78
        },
        "id": "8sHg2fNNkYN3",
        "outputId": "4f886394-791a-404c-f739-adf2e17e88aa"
      },
      "execution_count": null,
      "outputs": [
        {
          "output_type": "execute_result",
          "data": {
            "text/plain": [
              "Matrix([\n",
              "[1, 1, 0],\n",
              "[0, 1, 0],\n",
              "[0, 0, 3]])"
            ],
            "text/latex": "$\\displaystyle \\left[\\begin{matrix}1 & 1 & 0\\\\0 & 1 & 0\\\\0 & 0 & 3\\end{matrix}\\right]$"
          },
          "metadata": {},
          "execution_count": 12
        }
      ]
    },
    {
      "cell_type": "code",
      "source": [
        "C.eigenvects()"
      ],
      "metadata": {
        "colab": {
          "base_uri": "https://localhost:8080/"
        },
        "id": "RgSf5HzEk2YZ",
        "outputId": "a3e62a5c-4332-4029-b95d-24228792deb7"
      },
      "execution_count": null,
      "outputs": [
        {
          "output_type": "execute_result",
          "data": {
            "text/plain": [
              "[(1,\n",
              "  2,\n",
              "  [Matrix([\n",
              "   [1],\n",
              "   [0],\n",
              "   [0]])]),\n",
              " (3,\n",
              "  1,\n",
              "  [Matrix([\n",
              "   [0],\n",
              "   [0],\n",
              "   [1]])])]"
            ]
          },
          "metadata": {},
          "execution_count": 13
        }
      ]
    },
    {
      "cell_type": "code",
      "source": [
        "D = Matrix([[0,-1],\n",
        "            [1,0]])\n",
        "D"
      ],
      "metadata": {
        "colab": {
          "base_uri": "https://localhost:8080/",
          "height": 58
        },
        "id": "M2jytG5qk5eL",
        "outputId": "acf4ea05-c250-4cdb-f9bf-87ae1c2e0bc6"
      },
      "execution_count": null,
      "outputs": [
        {
          "output_type": "execute_result",
          "data": {
            "text/plain": [
              "Matrix([\n",
              "[0, -1],\n",
              "[1,  0]])"
            ],
            "text/latex": "$\\displaystyle \\left[\\begin{matrix}0 & -1\\\\1 & 0\\end{matrix}\\right]$"
          },
          "metadata": {},
          "execution_count": 14
        }
      ]
    },
    {
      "cell_type": "code",
      "source": [
        "D.eigenvects()"
      ],
      "metadata": {
        "id": "0wy1W0Xgsg2V",
        "outputId": "e53d7bfd-892e-4fb7-dde1-7887a4954f04",
        "colab": {
          "base_uri": "https://localhost:8080/"
        }
      },
      "execution_count": null,
      "outputs": [
        {
          "output_type": "execute_result",
          "data": {
            "text/plain": [
              "[(-I,\n",
              "  1,\n",
              "  [Matrix([\n",
              "   [-I],\n",
              "   [ 1]])]),\n",
              " (I,\n",
              "  1,\n",
              "  [Matrix([\n",
              "   [I],\n",
              "   [1]])])]"
            ]
          },
          "metadata": {},
          "execution_count": 15
        }
      ]
    },
    {
      "cell_type": "code",
      "source": [],
      "metadata": {
        "id": "IRlYmvJPsh4q"
      },
      "execution_count": null,
      "outputs": []
    }
  ]
}