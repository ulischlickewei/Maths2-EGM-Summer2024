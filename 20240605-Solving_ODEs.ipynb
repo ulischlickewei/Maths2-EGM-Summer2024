{
 "cells": [
  {
   "cell_type": "markdown",
   "id": "e7d99967-c97b-42da-b9b0-5d4deaba1255",
   "metadata": {},
   "source": [
    "## Example on page 28"
   ]
  },
  {
   "cell_type": "code",
   "execution_count": 3,
   "id": "2657a4bb-623d-4523-a1b2-320eca962165",
   "metadata": {},
   "outputs": [],
   "source": [
    "# assume for simplicity: R = 1, C = 1, U0 = 1\n",
    "from sympy import *\n",
    "t, C1 = symbols('t,C1')\n",
    "U = Function('U')"
   ]
  },
  {
   "cell_type": "code",
   "execution_count": 5,
   "id": "029938f7-2dc4-48ee-9488-a36aedb37efe",
   "metadata": {},
   "outputs": [
    {
     "data": {
      "text/latex": [
       "$\\displaystyle U{\\left(t \\right)} = C_{1} e^{- t} + 1.0$"
      ],
      "text/plain": [
       "Eq(U(t), C1*exp(-t) + 1.0)"
      ]
     },
     "execution_count": 5,
     "metadata": {},
     "output_type": "execute_result"
    }
   ],
   "source": [
    "R = 1\n",
    "C = 1\n",
    "U0 = 1\n",
    "result = dsolve(diff(U(t),t,1) + 1/(R*C) * U(t) - 1/(R*C) * U0,U(t))\n",
    "result"
   ]
  },
  {
   "cell_type": "code",
   "execution_count": 10,
   "id": "bd41c0db-8ff0-43f8-9314-c3aeec71d37e",
   "metadata": {},
   "outputs": [
    {
     "data": {
      "image/png": "[encoded data removed]",
      "text/plain": [
       "<Figure size 640x480 with 1 Axes>"
      ]
     },
     "metadata": {},
     "output_type": "display_data"
    },
    {
     "data": {
      "text/plain": [
       "<sympy.plotting.plot.Plot at 0x7ff8608eea30>"
      ]
     },
     "execution_count": 10,
     "metadata": {},
     "output_type": "execute_result"
    }
   ],
   "source": [
    "plotting.plot(result.rhs.subs({C1:-1}),(t,0,5))"
   ]
  },
  {
   "cell_type": "markdown",
   "id": "da693098-6055-4f84-830c-3fe49b42c374",
   "metadata": {},
   "source": [
    "## Solving a homogeneuous linear ODE of first order"
   ]
  },
  {
   "cell_type": "code",
   "execution_count": 13,
   "id": "9fe832e1-6e48-415f-85be-814a17312472",
   "metadata": {},
   "outputs": [
    {
     "data": {
      "text/latex": [
       "$\\displaystyle y{\\left(t \\right)} = C_{1} e^{l t}$"
      ],
      "text/plain": [
       "Eq(y(t), C1*exp(l*t))"
      ]
     },
     "execution_count": 13,
     "metadata": {},
     "output_type": "execute_result"
    }
   ],
   "source": [
    "y = Function('y')\n",
    "l = symbols('l')\n",
    "dsolve(diff(y(t),t,1) - l*y(t),y(t))"
   ]
  },
  {
   "cell_type": "markdown",
   "id": "bfc8bc8e-3262-4ba1-97f2-1169aec710e4",
   "metadata": {},
   "source": [
    "## Finding zeros of a polynomial"
   ]
  },
  {
   "cell_type": "code",
   "execution_count": 15,
   "id": "1512382d-b820-44f0-b073-84da3df9b19d",
   "metadata": {},
   "outputs": [
    {
     "data": {
      "text/plain": [
       "[1, 1 - I, 1 + I]"
      ]
     },
     "execution_count": 15,
     "metadata": {},
     "output_type": "execute_result"
    }
   ],
   "source": [
    "l = symbols('l')\n",
    "solve(l**3 - 3*l**2 + 4*l -2)"
   ]
  },
  {
   "cell_type": "markdown",
   "id": "0c3a394d-ce18-4030-b15b-9db93920666d",
   "metadata": {},
   "source": [
    "## Solving a homogeneous linear ODE of order 3"
   ]
  },
  {
   "cell_type": "code",
   "execution_count": 16,
   "id": "cf00c29c-e894-48f4-86c6-3e5925b84b12",
   "metadata": {},
   "outputs": [
    {
     "data": {
      "text/latex": [
       "$\\displaystyle y{\\left(t \\right)} = \\left(C_{1} + C_{2} \\sin{\\left(t \\right)} + C_{3} \\cos{\\left(t \\right)}\\right) e^{t}$"
      ],
      "text/plain": [
       "Eq(y(t), (C1 + C2*sin(t) + C3*cos(t))*exp(t))"
      ]
     },
     "execution_count": 16,
     "metadata": {},
     "output_type": "execute_result"
    }
   ],
   "source": [
    "y = Function('y')\n",
    "dsolve(diff(y(t),t,3) - 3*diff(y(t),t,2)\n",
    "       + 4*diff(y(t),t,1) - 2*y(t),y(t))"
   ]
  },
  {
   "cell_type": "code",
   "execution_count": null,
   "id": "03aa4ae5-3088-4756-8635-2ca9a76c6e6a",
   "metadata": {},
   "outputs": [],
   "source": []
  }
 ],
 "metadata": {
  "kernelspec": {
   "display_name": "Python 3 (ipykernel)",
   "language": "python",
   "name": "python3"
  },
  "language_info": {
   "codemirror_mode": {
    "name": "ipython",
    "version": 3
   },
   "file_extension": ".py",
   "mimetype": "text/x-python",
   "name": "python",
   "nbconvert_exporter": "python",
   "pygments_lexer": "ipython3",
   "version": "3.9.7"
  }
 },
 "nbformat": 4,
 "nbformat_minor": 5
}
