{
  "nbformat": 4,
  "nbformat_minor": 0,
  "metadata": {
    "colab": {
      "provenance": [],
      "authorship_tag": "ABX9TyPbwuZncPGUz0P8ri/XtJNZ",
      "include_colab_link": true
    },
    "kernelspec": {
      "name": "python3",
      "display_name": "Python 3"
    },
    "language_info": {
      "name": "python"
    }
  },
  "cells": [
    {
      "cell_type": "markdown",
      "metadata": {
        "id": "view-in-github",
        "colab_type": "text"
      },
      "source": [
        "<a href=\"https://colab.research.google.com/github/ulischlickewei/Maths2-EGM-Summer2024/blob/main/20240327_Row_reduction_in_SymPy.ipynb\" target=\"_parent\"><img src=\"https://colab.research.google.com/assets/colab-badge.svg\" alt=\"Open In Colab\"/></a>"
      ]
    },
    {
      "cell_type": "code",
      "execution_count": 2,
      "metadata": {
        "id": "RpCikhnqiMvI"
      },
      "outputs": [],
      "source": [
        "from sympy import *"
      ]
    },
    {
      "cell_type": "markdown",
      "source": [
        "## Example 1"
      ],
      "metadata": {
        "id": "wud5hCIa9u7x"
      }
    },
    {
      "cell_type": "code",
      "source": [
        "M = Matrix([[0,3,-6,6,4,-5],\n",
        "            [3,-7,8,-5,8,9],\n",
        "            [3,-9,12,-9,6,15]])\n",
        "M"
      ],
      "metadata": {
        "colab": {
          "base_uri": "https://localhost:8080/",
          "height": 79
        },
        "id": "eT0eGF1KiYvt",
        "outputId": "9233635c-366f-48c6-841c-715a7e3beb53"
      },
      "execution_count": 3,
      "outputs": [
        {
          "output_type": "execute_result",
          "data": {
            "text/plain": [
              "Matrix([\n",
              "[0,  3, -6,  6, 4, -5],\n",
              "[3, -7,  8, -5, 8,  9],\n",
              "[3, -9, 12, -9, 6, 15]])"
            ],
            "text/latex": "$\\displaystyle \\left[\\begin{matrix}0 & 3 & -6 & 6 & 4 & -5\\\\3 & -7 & 8 & -5 & 8 & 9\\\\3 & -9 & 12 & -9 & 6 & 15\\end{matrix}\\right]$"
          },
          "metadata": {},
          "execution_count": 3
        }
      ]
    },
    {
      "cell_type": "code",
      "source": [
        "M.rref()"
      ],
      "metadata": {
        "colab": {
          "base_uri": "https://localhost:8080/"
        },
        "id": "lLvEVTpFismX",
        "outputId": "c1ebfb16-29b0-4642-9d17-b56320fda6a9"
      },
      "execution_count": 4,
      "outputs": [
        {
          "output_type": "execute_result",
          "data": {
            "text/plain": [
              "(Matrix([\n",
              " [1, 0, -2, 3, 0, -24],\n",
              " [0, 1, -2, 2, 0,  -7],\n",
              " [0, 0,  0, 0, 1,   4]]),\n",
              " (0, 1, 4))"
            ]
          },
          "metadata": {},
          "execution_count": 4
        }
      ]
    },
    {
      "cell_type": "code",
      "source": [
        "M.rref()[0]"
      ],
      "metadata": {
        "colab": {
          "base_uri": "https://localhost:8080/",
          "height": 79
        },
        "id": "qho1H1Yqi3Ap",
        "outputId": "d42ee7df-8747-40dc-de62-48730c3d0ded"
      },
      "execution_count": 6,
      "outputs": [
        {
          "output_type": "execute_result",
          "data": {
            "text/plain": [
              "Matrix([\n",
              "[1, 0, -2, 3, 0, -24],\n",
              "[0, 1, -2, 2, 0,  -7],\n",
              "[0, 0,  0, 0, 1,   4]])"
            ],
            "text/latex": "$\\displaystyle \\left[\\begin{matrix}1 & 0 & -2 & 3 & 0 & -24\\\\0 & 1 & -2 & 2 & 0 & -7\\\\0 & 0 & 0 & 0 & 1 & 4\\end{matrix}\\right]$"
          },
          "metadata": {},
          "execution_count": 6
        }
      ]
    },
    {
      "cell_type": "code",
      "source": [
        "M.rref()[1]"
      ],
      "metadata": {
        "colab": {
          "base_uri": "https://localhost:8080/"
        },
        "id": "LnfuJ15Xi819",
        "outputId": "d9ba65a4-9224-446b-f692-40363c7dbfb8"
      },
      "execution_count": 8,
      "outputs": [
        {
          "output_type": "execute_result",
          "data": {
            "text/plain": [
              "(0, 1, 4)"
            ]
          },
          "metadata": {},
          "execution_count": 8
        }
      ]
    },
    {
      "cell_type": "markdown",
      "source": [
        "## Example 2"
      ],
      "metadata": {
        "id": "5GTU4k5s9xbP"
      }
    },
    {
      "cell_type": "code",
      "source": [
        "*A = Matrix([[1,-2,-1],[-1,2,3]])\n",
        "A.rref()[0]"
      ],
      "metadata": {
        "colab": {
          "base_uri": "https://localhost:8080/",
          "height": 58
        },
        "id": "kd5B0oiIjZ9q",
        "outputId": "1dc1b34c-df37-4b63-ab27-dab5d693e788"
      },
      "execution_count": 10,
      "outputs": [
        {
          "output_type": "execute_result",
          "data": {
            "text/plain": [
              "Matrix([\n",
              "[1, -2, 0],\n",
              "[0,  0, 1]])"
            ],
            "text/latex": "$\\displaystyle \\left[\\begin{matrix}1 & -2 & 0\\\\0 & 0 & 1\\end{matrix}\\right]$"
          },
          "metadata": {},
          "execution_count": 10
        }
      ]
    },
    {
      "cell_type": "markdown",
      "source": [
        "## Example 3"
      ],
      "metadata": {
        "id": "LSU99PB694T0"
      }
    },
    {
      "cell_type": "code",
      "source": [
        "B = Matrix([[1,-2,-1],[-1,3,3]])\n",
        "B.rref()[0]"
      ],
      "metadata": {
        "colab": {
          "base_uri": "https://localhost:8080/",
          "height": 58
        },
        "id": "vwmhacqUnKbW",
        "outputId": "4bdaf264-d844-432c-ad02-a7a6230af2ed"
      },
      "execution_count": 12,
      "outputs": [
        {
          "output_type": "execute_result",
          "data": {
            "text/plain": [
              "Matrix([\n",
              "[1, 0, 3],\n",
              "[0, 1, 2]])"
            ],
            "text/latex": "$\\displaystyle \\left[\\begin{matrix}1 & 0 & 3\\\\0 & 1 & 2\\end{matrix}\\right]$"
          },
          "metadata": {},
          "execution_count": 12
        }
      ]
    },
    {
      "cell_type": "markdown",
      "source": [
        "## Example 4"
      ],
      "metadata": {
        "id": "fHI1yHgQ97ak"
      }
    },
    {
      "cell_type": "code",
      "source": [
        "A = Matrix([[1,0,2,-3],[0,0,3,1],[0,0,0,0]])\n",
        "A.rref()[0]"
      ],
      "metadata": {
        "colab": {
          "base_uri": "https://localhost:8080/",
          "height": 79
        },
        "id": "XWUXuSwAnb0N",
        "outputId": "57827244-d556-470d-fdc8-9562d69aae4b"
      },
      "execution_count": 13,
      "outputs": [
        {
          "output_type": "execute_result",
          "data": {
            "text/plain": [
              "Matrix([\n",
              "[1, 0, 0, -11/3],\n",
              "[0, 0, 1,   1/3],\n",
              "[0, 0, 0,     0]])"
            ],
            "text/latex": "$\\displaystyle \\left[\\begin{matrix}1 & 0 & 0 & - \\frac{11}{3}\\\\0 & 0 & 1 & \\frac{1}{3}\\\\0 & 0 & 0 & 0\\end{matrix}\\right]$"
          },
          "metadata": {},
          "execution_count": 13
        }
      ]
    },
    {
      "cell_type": "markdown",
      "source": [
        "## Example 5"
      ],
      "metadata": {
        "id": "fg6tS8RX99J9"
      }
    },
    {
      "cell_type": "code",
      "source": [
        "A = Matrix([[0,0,1,1],\n",
        "            [1,1,1,2],\n",
        "            [1,-1,1,4]])\n",
        "A.rref()[0]"
      ],
      "metadata": {
        "colab": {
          "base_uri": "https://localhost:8080/",
          "height": 79
        },
        "id": "GaVxSqNCwGEA",
        "outputId": "631c6292-a465-4ec9-fab2-d01bde62eb12"
      },
      "execution_count": 14,
      "outputs": [
        {
          "output_type": "execute_result",
          "data": {
            "text/plain": [
              "Matrix([\n",
              "[1, 0, 0,  2],\n",
              "[0, 1, 0, -1],\n",
              "[0, 0, 1,  1]])"
            ],
            "text/latex": "$\\displaystyle \\left[\\begin{matrix}1 & 0 & 0 & 2\\\\0 & 1 & 0 & -1\\\\0 & 0 & 1 & 1\\end{matrix}\\right]$"
          },
          "metadata": {},
          "execution_count": 14
        }
      ]
    }
  ]
}