{
 "cells": [
  {
   "cell_type": "code",
   "execution_count": 2,
   "id": "5ba9e76a-1105-4e53-8915-0a0a4b3ce9db",
   "metadata": {},
   "outputs": [],
   "source": [
    "from sympy import *"
   ]
  },
  {
   "cell_type": "code",
   "execution_count": 3,
   "id": "7d316712-09da-45e8-92f8-987398e0bc3b",
   "metadata": {},
   "outputs": [
    {
     "data": {
      "text/latex": [
       "$\\displaystyle x^{3} e^{2 y}$"
      ],
      "text/plain": [
       "x**3*exp(2*y)"
      ]
     },
     "execution_count": 3,
     "metadata": {},
     "output_type": "execute_result"
    }
   ],
   "source": [
    "x,y = symbols('x,y')\n",
    "f = x**3 * exp(2*y)\n",
    "f\n"
   ]
  },
  {
   "cell_type": "code",
   "execution_count": 4,
   "id": "2969a26c-76fa-4ef1-9b34-a972b358b46b",
   "metadata": {},
   "outputs": [
    {
     "data": {
      "text/latex": [
       "$\\displaystyle 3 x^{2} e^{2 y}$"
      ],
      "text/plain": [
       "3*x**2*exp(2*y)"
      ]
     },
     "metadata": {},
     "output_type": "display_data"
    },
    {
     "data": {
      "text/latex": [
       "$\\displaystyle 2 x^{3} e^{2 y}$"
      ],
      "text/plain": [
       "2*x**3*exp(2*y)"
      ]
     },
     "metadata": {},
     "output_type": "display_data"
    }
   ],
   "source": [
    "# partial derivatives\n",
    "fx = diff(f,x)\n",
    "fy = diff(f,y)\n",
    "display(fx)\n",
    "display(fy\n",
    "       )"
   ]
  },
  {
   "cell_type": "code",
   "execution_count": 9,
   "id": "49fc76f6-f0bc-4da9-980c-6563ef5c180a",
   "metadata": {},
   "outputs": [
    {
     "data": {
      "text/latex": [
       "$\\displaystyle 6 x e^{2 y}$"
      ],
      "text/plain": [
       "6*x*exp(2*y)"
      ]
     },
     "execution_count": 9,
     "metadata": {},
     "output_type": "execute_result"
    }
   ],
   "source": [
    "# second partial derivative wrt to x\n",
    "diff(f,x,x)"
   ]
  },
  {
   "cell_type": "code",
   "execution_count": 10,
   "id": "eaaf5428-f257-4dbd-b493-9e08ff64b423",
   "metadata": {},
   "outputs": [
    {
     "data": {
      "text/latex": [
       "$\\displaystyle 6 x^{2} e^{2 y}$"
      ],
      "text/plain": [
       "6*x**2*exp(2*y)"
      ]
     },
     "execution_count": 10,
     "metadata": {},
     "output_type": "execute_result"
    }
   ],
   "source": [
    "# second partial derivative wrt to y and x\n",
    "diff(f,x,y)"
   ]
  },
  {
   "cell_type": "code",
   "execution_count": 12,
   "id": "7c100682-a407-40aa-adc3-46d0826e6a27",
   "metadata": {},
   "outputs": [
    {
     "data": {
      "text/latex": [
       "$\\displaystyle \\left[\\begin{matrix}6 x e^{2 y} & 6 x^{2} e^{2 y}\\\\6 x^{2} e^{2 y} & 4 x^{3} e^{2 y}\\end{matrix}\\right]$"
      ],
      "text/plain": [
       "Matrix([\n",
       "[   6*x*exp(2*y), 6*x**2*exp(2*y)],\n",
       "[6*x**2*exp(2*y), 4*x**3*exp(2*y)]])"
      ]
     },
     "execution_count": 12,
     "metadata": {},
     "output_type": "execute_result"
    }
   ],
   "source": [
    "# Hessian matrix\n",
    "hessian(f,(x,y))"
   ]
  },
  {
   "cell_type": "code",
   "execution_count": null,
   "id": "38dcfeac-db12-44de-8cb9-b9f9bbda0919",
   "metadata": {},
   "outputs": [],
   "source": []
  }
 ],
 "metadata": {
  "kernelspec": {
   "display_name": "Python 3 (ipykernel)",
   "language": "python",
   "name": "python3"
  },
  "language_info": {
   "codemirror_mode": {
    "name": "ipython",
    "version": 3
   },
   "file_extension": ".py",
   "mimetype": "text/x-python",
   "name": "python",
   "nbconvert_exporter": "python",
   "pygments_lexer": "ipython3",
   "version": "3.9.7"
  }
 },
 "nbformat": 4,
 "nbformat_minor": 5
}
