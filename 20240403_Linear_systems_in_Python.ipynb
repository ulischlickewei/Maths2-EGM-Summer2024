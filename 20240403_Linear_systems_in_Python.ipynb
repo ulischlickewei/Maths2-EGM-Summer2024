{
  "nbformat": 4,
  "nbformat_minor": 0,
  "metadata": {
    "colab": {
      "provenance": [],
      "authorship_tag": "ABX9TyM6ULEMOVDqQuAbRTeo9pPf",
      "include_colab_link": true
    },
    "kernelspec": {
      "name": "python3",
      "display_name": "Python 3"
    },
    "language_info": {
      "name": "python"
    }
  },
  "cells": [
    {
      "cell_type": "markdown",
      "metadata": {
        "id": "view-in-github",
        "colab_type": "text"
      },
      "source": [
        "<a href=\"https://colab.research.google.com/github/ulischlickewei/Maths2-EGM-Summer2024/blob/main/20240403_Linear_systems_in_Python.ipynb\" target=\"_parent\"><img src=\"https://colab.research.google.com/assets/colab-badge.svg\" alt=\"Open In Colab\"/></a>"
      ]
    },
    {
      "cell_type": "code",
      "execution_count": null,
      "metadata": {
        "id": "eRl7TFLpY0r2"
      },
      "outputs": [],
      "source": [
        "from sympy import *"
      ]
    },
    {
      "cell_type": "markdown",
      "source": [
        "## Example of a linear system"
      ],
      "metadata": {
        "id": "JWVuIXucY861"
      }
    },
    {
      "cell_type": "code",
      "source": [
        "A = Matrix([[1,3,5,-7],\n",
        "            [-2,1,4,34]])\n",
        "A.rref()[0]"
      ],
      "metadata": {
        "colab": {
          "base_uri": "https://localhost:8080/",
          "height": 58
        },
        "id": "L-2RhCsCY-1r",
        "outputId": "144fcc7a-fe97-4c84-e0a2-d89d89bc6603"
      },
      "execution_count": null,
      "outputs": [
        {
          "output_type": "execute_result",
          "data": {
            "text/plain": [
              "Matrix([\n",
              "[1, 0, -1, -109/7],\n",
              "[0, 1,  2,   20/7]])"
            ],
            "text/latex": "$\\displaystyle \\left[\\begin{matrix}1 & 0 & -1 & - \\frac{109}{7}\\\\0 & 1 & 2 & \\frac{20}{7}\\end{matrix}\\right]$"
          },
          "metadata": {},
          "execution_count": 3
        }
      ]
    },
    {
      "cell_type": "markdown",
      "source": [
        "## Testing for linear independence of vectors"
      ],
      "metadata": {
        "id": "gxfM3KzkbvPD"
      }
    },
    {
      "cell_type": "code",
      "source": [
        "B = Matrix([[2,1,0,0],\n",
        "            [3,1,1,0],\n",
        "            [5,0,5,0]])\n",
        "B.rref()[0]"
      ],
      "metadata": {
        "colab": {
          "base_uri": "https://localhost:8080/",
          "height": 78
        },
        "id": "h0ZfmTfBZHHL",
        "outputId": "cd165e8f-87cc-4b69-943a-dd666f1b1b85"
      },
      "execution_count": null,
      "outputs": [
        {
          "output_type": "execute_result",
          "data": {
            "text/plain": [
              "Matrix([\n",
              "[1, 0,  1, 0],\n",
              "[0, 1, -2, 0],\n",
              "[0, 0,  0, 0]])"
            ],
            "text/latex": "$\\displaystyle \\left[\\begin{matrix}1 & 0 & 1 & 0\\\\0 & 1 & -2 & 0\\\\0 & 0 & 0 & 0\\end{matrix}\\right]$"
          },
          "metadata": {},
          "execution_count": 5
        }
      ]
    },
    {
      "cell_type": "markdown",
      "source": [
        "## Modelling the traffic in a city (Exercise 4 on Exercise Sheet 2)"
      ],
      "metadata": {
        "id": "xUwD2eMBiSAQ"
      }
    },
    {
      "cell_type": "code",
      "source": [
        "C = Matrix([[1,1,0,0,0,800],\n",
        "            [0,1,-1,1,0,300],\n",
        "            [0,0,0,1,1,500],\n",
        "            [1,0,0,0,1,600],\n",
        "            [0,0,1,0,0,400]])\n",
        "C"
      ],
      "metadata": {
        "colab": {
          "base_uri": "https://localhost:8080/",
          "height": 119
        },
        "id": "w5bx-qoniREW",
        "outputId": "5cdeb81a-33d4-490e-c7d3-4a229be300d9"
      },
      "execution_count": null,
      "outputs": [
        {
          "output_type": "execute_result",
          "data": {
            "text/plain": [
              "Matrix([\n",
              "[1, 1,  0, 0, 0, 800],\n",
              "[0, 1, -1, 1, 0, 300],\n",
              "[0, 0,  0, 1, 1, 500],\n",
              "[1, 0,  0, 0, 1, 600],\n",
              "[0, 0,  1, 0, 0, 400]])"
            ],
            "text/latex": "$\\displaystyle \\left[\\begin{matrix}1 & 1 & 0 & 0 & 0 & 800\\\\0 & 1 & -1 & 1 & 0 & 300\\\\0 & 0 & 0 & 1 & 1 & 500\\\\1 & 0 & 0 & 0 & 1 & 600\\\\0 & 0 & 1 & 0 & 0 & 400\\end{matrix}\\right]$"
          },
          "metadata": {},
          "execution_count": 6
        }
      ]
    },
    {
      "cell_type": "code",
      "source": [
        "C.rref()[0]"
      ],
      "metadata": {
        "colab": {
          "base_uri": "https://localhost:8080/",
          "height": 119
        },
        "id": "b7ks3PZcb5-O",
        "outputId": "ced8e31c-bcf1-43a0-d1f6-661001b09978"
      },
      "execution_count": null,
      "outputs": [
        {
          "output_type": "execute_result",
          "data": {
            "text/plain": [
              "Matrix([\n",
              "[1, 0, 0, 0,  1, 600],\n",
              "[0, 1, 0, 0, -1, 200],\n",
              "[0, 0, 1, 0,  0, 400],\n",
              "[0, 0, 0, 1,  1, 500],\n",
              "[0, 0, 0, 0,  0,   0]])"
            ],
            "text/latex": "$\\displaystyle \\left[\\begin{matrix}1 & 0 & 0 & 0 & 1 & 600\\\\0 & 1 & 0 & 0 & -1 & 200\\\\0 & 0 & 1 & 0 & 0 & 400\\\\0 & 0 & 0 & 1 & 1 & 500\\\\0 & 0 & 0 & 0 & 0 & 0\\end{matrix}\\right]$"
          },
          "metadata": {},
          "execution_count": 7
        }
      ]
    },
    {
      "cell_type": "code",
      "source": [],
      "metadata": {
        "id": "LGmNvGEXiwYi"
      },
      "execution_count": null,
      "outputs": []
    }
  ]
}