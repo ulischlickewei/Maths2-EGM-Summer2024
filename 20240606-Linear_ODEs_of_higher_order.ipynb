{
 "cells": [
  {
   "cell_type": "markdown",
   "id": "40eb8b6d-d7be-4a4a-8d89-599d73cb3a38",
   "metadata": {},
   "source": [
    "## Polynomials on page 35"
   ]
  },
  {
   "cell_type": "code",
   "execution_count": 1,
   "id": "9630d2d4-e1f9-48b3-a090-fdec501da958",
   "metadata": {},
   "outputs": [
    {
     "data": {
      "text/plain": [
       "[1 - 2*I, 1 + 2*I]"
      ]
     },
     "execution_count": 1,
     "metadata": {},
     "output_type": "execute_result"
    }
   ],
   "source": [
    "from sympy import *\n",
    "l = symbols('l')\n",
    "P2 = l**2 - 2*l + 5\n",
    "solve(P2)"
   ]
  },
  {
   "cell_type": "code",
   "execution_count": 2,
   "id": "cbfc4974-e0b1-49f5-9e33-aa8db07d958e",
   "metadata": {},
   "outputs": [
    {
     "data": {
      "text/plain": [
       "[1, -I, I]"
      ]
     },
     "execution_count": 2,
     "metadata": {},
     "output_type": "execute_result"
    }
   ],
   "source": [
    "P3 = l**3 - l**2 + l -1\n",
    "solve(P3)"
   ]
  },
  {
   "cell_type": "code",
   "execution_count": 3,
   "id": "d0f2c997-d0be-49fe-affb-5827ffa06bfe",
   "metadata": {},
   "outputs": [
    {
     "data": {
      "text/plain": [
       "[1]"
      ]
     },
     "execution_count": 3,
     "metadata": {},
     "output_type": "execute_result"
    }
   ],
   "source": [
    "P1 = l**2 - 2*l + 1\n",
    "solve(P1)"
   ]
  },
  {
   "cell_type": "code",
   "execution_count": 6,
   "id": "3e2b6e45-6f5a-4d7c-a53e-b79e32cede33",
   "metadata": {},
   "outputs": [
    {
     "data": {
      "text/latex": [
       "$\\displaystyle \\left(l - 1\\right)^{2}$"
      ],
      "text/plain": [
       "(l - 1)**2"
      ]
     },
     "execution_count": 6,
     "metadata": {},
     "output_type": "execute_result"
    }
   ],
   "source": [
    "P1.factor()"
   ]
  },
  {
   "cell_type": "code",
   "execution_count": 7,
   "id": "3664c0be-0a40-4aad-a5b9-8d9d7a6f9899",
   "metadata": {},
   "outputs": [
    {
     "data": {
      "text/latex": [
       "$\\displaystyle y{\\left(t \\right)} = \\left(C_{1} + C_{2} t\\right) e^{t}$"
      ],
      "text/plain": [
       "Eq(y(t), (C1 + C2*t)*exp(t))"
      ]
     },
     "execution_count": 7,
     "metadata": {},
     "output_type": "execute_result"
    }
   ],
   "source": [
    "y = Function('y')\n",
    "t, C1, C2 = symbols('t,C1,C2')\n",
    "dsolve(diff(y(t),t,2) - 2*diff(y(t),t,1) + y(t),y(t))"
   ]
  },
  {
   "cell_type": "markdown",
   "id": "f07d4dde-e4a0-4887-8a9e-a8e3bbabbf74",
   "metadata": {},
   "source": [
    "## Inhomogeneous ODE on page 47"
   ]
  },
  {
   "cell_type": "code",
   "execution_count": 12,
   "id": "6392f9fe-8293-4d85-a124-8c988997b6e4",
   "metadata": {},
   "outputs": [],
   "source": [
    "t, B0, B1, B2 = symbols('t, B0, B1, B2')"
   ]
  },
  {
   "cell_type": "code",
   "execution_count": 14,
   "id": "60126ef7-454b-49b1-91f6-0a2ba56cb312",
   "metadata": {},
   "outputs": [
    {
     "data": {
      "text/latex": [
       "$\\displaystyle B_{0} + B_{1} t + B_{2} t^{2}$"
      ],
      "text/plain": [
       "B0 + B1*t + B2*t**2"
      ]
     },
     "execution_count": 14,
     "metadata": {},
     "output_type": "execute_result"
    }
   ],
   "source": [
    "yp = B0 + B1*t + B2*t**2\n",
    "yp"
   ]
  },
  {
   "cell_type": "code",
   "execution_count": 17,
   "id": "52ce71f5-907c-4854-9b6d-adb37bde20f0",
   "metadata": {},
   "outputs": [
    {
     "data": {
      "text/latex": [
       "$\\displaystyle B_{0} + B_{1} t - 2 B_{1} + B_{2} t^{2} - 4 B_{2} t + 2 B_{2}$"
      ],
      "text/plain": [
       "B0 + B1*t - 2*B1 + B2*t**2 - 4*B2*t + 2*B2"
      ]
     },
     "execution_count": 17,
     "metadata": {},
     "output_type": "execute_result"
    }
   ],
   "source": [
    "(diff(yp,t,2) - 2*diff(yp,t,1) + yp).simplify()"
   ]
  },
  {
   "cell_type": "markdown",
   "id": "496fa563-637f-4fdf-be6b-34a2d28dc989",
   "metadata": {},
   "source": [
    "## Example on page 48"
   ]
  },
  {
   "cell_type": "code",
   "execution_count": 21,
   "id": "f39c75fc-52a5-4cee-a8da-286cf56ef68a",
   "metadata": {},
   "outputs": [
    {
     "data": {
      "text/latex": [
       "$\\displaystyle 2 B e^{- 3 t}$"
      ],
      "text/plain": [
       "2*B*exp(-3*t)"
      ]
     },
     "execution_count": 21,
     "metadata": {},
     "output_type": "execute_result"
    }
   ],
   "source": [
    "B, t = symbols('B,t')\n",
    "yp = B*t**2*exp(-3*t)\n",
    "(diff(yp,t,2) + 6*diff(yp,t,1) + 9*yp).simplify()"
   ]
  },
  {
   "cell_type": "code",
   "execution_count": null,
   "id": "574af8a0-3cbc-4157-bb6a-1e36743b31d2",
   "metadata": {},
   "outputs": [],
   "source": []
  }
 ],
 "metadata": {
  "kernelspec": {
   "display_name": "Python 3 (ipykernel)",
   "language": "python",
   "name": "python3"
  },
  "language_info": {
   "codemirror_mode": {
    "name": "ipython",
    "version": 3
   },
   "file_extension": ".py",
   "mimetype": "text/x-python",
   "name": "python",
   "nbconvert_exporter": "python",
   "pygments_lexer": "ipython3",
   "version": "3.9.7"
  }
 },
 "nbformat": 4,
 "nbformat_minor": 5
}
