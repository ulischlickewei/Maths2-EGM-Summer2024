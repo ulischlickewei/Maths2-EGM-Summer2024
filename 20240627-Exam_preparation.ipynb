{
 "cells": [
  {
   "cell_type": "code",
   "execution_count": 1,
   "id": "410814a1-4acb-42f3-a95c-210532c96d5c",
   "metadata": {},
   "outputs": [],
   "source": [
    "from sympy import *"
   ]
  },
  {
   "cell_type": "markdown",
   "id": "ca89c1a3-c128-4798-ba98-3dea67f1399e",
   "metadata": {},
   "source": [
    "## Exercise on solving an inhomogeneous linear ODE of order 2"
   ]
  },
  {
   "cell_type": "code",
   "execution_count": 4,
   "id": "7281947b-30b4-4d24-b1e4-5ef03909ff04",
   "metadata": {},
   "outputs": [
    {
     "data": {
      "text/latex": [
       "$\\displaystyle y{\\left(t \\right)} = \\left(\\left(C_{1} + \\frac{e^{- 2 t}}{20}\\right) \\sin{\\left(2 t \\right)} + \\left(C_{2} + \\frac{e^{- 2 t}}{10}\\right) \\cos{\\left(2 t \\right)}\\right) e^{- t}$"
      ],
      "text/plain": [
       "Eq(y(t), ((C1 + exp(-2*t)/20)*sin(2*t) + (C2 + exp(-2*t)/10)*cos(2*t))*exp(-t))"
      ]
     },
     "execution_count": 4,
     "metadata": {},
     "output_type": "execute_result"
    }
   ],
   "source": [
    "y = Function('y')\n",
    "t, C1, C2 = symbols('t,C1,C2')\n",
    "dsolve(\n",
    "    diff(y(t),t,2) + 2*diff(y(t),t,1) + 5*y(t) - exp(-3*t)*sin(2*t),y(t)\n",
    ")"
   ]
  },
  {
   "cell_type": "code",
   "execution_count": 5,
   "id": "6e08d879-7895-4ec3-8ed9-a37a45ac3d97",
   "metadata": {},
   "outputs": [
    {
     "data": {
      "text/plain": [
       "[-1 - 2*I, -1 + 2*I]"
      ]
     },
     "execution_count": 5,
     "metadata": {},
     "output_type": "execute_result"
    }
   ],
   "source": [
    "l = symbols('l')\n",
    "P = l**2 + 2*l + 5\n",
    "solve(P)"
   ]
  },
  {
   "cell_type": "code",
   "execution_count": 8,
   "id": "84fdb9de-687d-49c5-80d0-5b9b218dcaab",
   "metadata": {},
   "outputs": [
    {
     "data": {
      "text/latex": [
       "$\\displaystyle 4 \\cdot \\left(2 A_{1} \\sin{\\left(2 t \\right)} + A_{1} \\cos{\\left(2 t \\right)} + A_{2} \\sin{\\left(2 t \\right)} - 2 A_{2} \\cos{\\left(2 t \\right)}\\right) e^{- 3 t}$"
      ],
      "text/plain": [
       "4*(2*A1*sin(2*t) + A1*cos(2*t) + A2*sin(2*t) - 2*A2*cos(2*t))*exp(-3*t)"
      ]
     },
     "execution_count": 8,
     "metadata": {},
     "output_type": "execute_result"
    }
   ],
   "source": [
    "A1, A2 = symbols('A1,A2')\n",
    "yp = exp(-3*t)*(A1*cos(2*t) + A2*sin(2*t))\n",
    "\n",
    "# Plug yp into the LHS of our ODE\n",
    "(diff(yp,t,2) + 2*diff(yp,t,1) + 5*yp).simplify()"
   ]
  },
  {
   "cell_type": "code",
   "execution_count": 9,
   "id": "d7e9462d-9593-498a-a38e-6e9ba11d6c88",
   "metadata": {},
   "outputs": [
    {
     "data": {
      "text/latex": [
       "$\\displaystyle \\left[\\begin{matrix}8 & 4 & 1\\\\4 & -8 & 0\\end{matrix}\\right]$"
      ],
      "text/plain": [
       "Matrix([\n",
       "[8,  4, 1],\n",
       "[4, -8, 0]])"
      ]
     },
     "execution_count": 9,
     "metadata": {},
     "output_type": "execute_result"
    }
   ],
   "source": [
    "M = Matrix([[8,4,1],[4,-8,0]])\n",
    "M"
   ]
  },
  {
   "cell_type": "code",
   "execution_count": 11,
   "id": "f0513184-344f-419c-aaf4-b9cc27ac8d47",
   "metadata": {},
   "outputs": [
    {
     "data": {
      "text/latex": [
       "$\\displaystyle \\left[\\begin{matrix}1 & 0 & \\frac{1}{10}\\\\0 & 1 & \\frac{1}{20}\\end{matrix}\\right]$"
      ],
      "text/plain": [
       "Matrix([\n",
       "[1, 0, 1/10],\n",
       "[0, 1, 1/20]])"
      ]
     },
     "execution_count": 11,
     "metadata": {},
     "output_type": "execute_result"
    }
   ],
   "source": [
    "M.rref()[0]"
   ]
  },
  {
   "cell_type": "markdown",
   "id": "cef35fa3-90ad-4c36-b59a-559dfd205789",
   "metadata": {},
   "source": [
    "## Exercise sheet 7, ex 1"
   ]
  },
  {
   "cell_type": "code",
   "execution_count": 13,
   "id": "42321b6a-742b-4ee4-bd4f-dc8648b3c308",
   "metadata": {},
   "outputs": [
    {
     "data": {
      "text/latex": [
       "$\\displaystyle l^{4} + 2 l^{3} + 10 l^{2} + 18 l + 9$"
      ],
      "text/plain": [
       "l**4 + 2*l**3 + 10*l**2 + 18*l + 9"
      ]
     },
     "execution_count": 13,
     "metadata": {},
     "output_type": "execute_result"
    }
   ],
   "source": [
    "l = symbols('l')\n",
    "P = (l+1)**2 * (l-3*I) * (l+3*I)\n",
    "P.expand()"
   ]
  },
  {
   "cell_type": "code",
   "execution_count": 14,
   "id": "56496a83-0e7b-4367-ac43-470ca7df0b8a",
   "metadata": {},
   "outputs": [
    {
     "data": {
      "text/latex": [
       "$\\displaystyle l^{4} - 8 l^{3} + 23 l^{2} - 30 l + 18$"
      ],
      "text/plain": [
       "l**4 - 8*l**3 + 23*l**2 - 30*l + 18"
      ]
     },
     "execution_count": 14,
     "metadata": {},
     "output_type": "execute_result"
    }
   ],
   "source": [
    "P = (l-3)**2 * (l-(1-I)) * (l-(1+I))\n",
    "P.expand()"
   ]
  },
  {
   "cell_type": "code",
   "execution_count": 15,
   "id": "593c0de7-de15-4d97-8024-e1fc069a1dde",
   "metadata": {},
   "outputs": [
    {
     "data": {
      "text/latex": [
       "$\\displaystyle 72 t^{2} - 186 t + 94$"
      ],
      "text/plain": [
       "72*t**2 - 186*t + 94"
      ]
     },
     "execution_count": 15,
     "metadata": {},
     "output_type": "execute_result"
    }
   ],
   "source": [
    "yp = 4*t**2 + 3*t\n",
    "diff(yp,t,4) - 8*diff(yp,t,3) + 23*diff(yp,t,2)-30*diff(yp,t,1) + 18*yp"
   ]
  },
  {
   "cell_type": "code",
   "execution_count": 16,
   "id": "d46cb3ed-39b6-4cea-b81e-13846bb44c34",
   "metadata": {},
   "outputs": [
    {
     "data": {
      "text/plain": [
       "[1, -I, I]"
      ]
     },
     "execution_count": 16,
     "metadata": {},
     "output_type": "execute_result"
    }
   ],
   "source": [
    "P = l**3 - l**2 + l - 1\n",
    "solve(P)"
   ]
  },
  {
   "cell_type": "code",
   "execution_count": null,
   "id": "f9bb4473-3439-4090-b594-3dd916d65024",
   "metadata": {},
   "outputs": [],
   "source": []
  }
 ],
 "metadata": {
  "kernelspec": {
   "display_name": "Python 3 (ipykernel)",
   "language": "python",
   "name": "python3"
  },
  "language_info": {
   "codemirror_mode": {
    "name": "ipython",
    "version": 3
   },
   "file_extension": ".py",
   "mimetype": "text/x-python",
   "name": "python",
   "nbconvert_exporter": "python",
   "pygments_lexer": "ipython3",
   "version": "3.9.7"
  }
 },
 "nbformat": 4,
 "nbformat_minor": 5
}
