{
 "cells": [
  {
   "cell_type": "code",
   "execution_count": 1,
   "id": "5ad3b80a-3a6a-463d-a21a-e185c08f6374",
   "metadata": {},
   "outputs": [],
   "source": [
    "from sympy import *"
   ]
  },
  {
   "cell_type": "code",
   "execution_count": 2,
   "id": "048beacb-f441-4b38-a648-5a1cb883a2de",
   "metadata": {},
   "outputs": [],
   "source": [
    "x,y = symbols('x,y')"
   ]
  },
  {
   "cell_type": "code",
   "execution_count": 3,
   "id": "6e6ea0f1-05ca-41c3-876b-df3a1b1a06aa",
   "metadata": {},
   "outputs": [
    {
     "data": {
      "text/latex": [
       "$\\displaystyle \\frac{8}{3}$"
      ],
      "text/plain": [
       "8/3"
      ]
     },
     "execution_count": 3,
     "metadata": {},
     "output_type": "execute_result"
    }
   ],
   "source": [
    "integrate(integrate(1,(y,-x**2,2-3*x**2)),(x,-1,1))"
   ]
  },
  {
   "cell_type": "code",
   "execution_count": null,
   "id": "f3fcc9f9-4024-4047-b909-a5b5fb835453",
   "metadata": {},
   "outputs": [],
   "source": []
  }
 ],
 "metadata": {
  "kernelspec": {
   "display_name": "Python 3 (ipykernel)",
   "language": "python",
   "name": "python3"
  },
  "language_info": {
   "codemirror_mode": {
    "name": "ipython",
    "version": 3
   },
   "file_extension": ".py",
   "mimetype": "text/x-python",
   "name": "python",
   "nbconvert_exporter": "python",
   "pygments_lexer": "ipython3",
   "version": "3.9.7"
  }
 },
 "nbformat": 4,
 "nbformat_minor": 5
}
