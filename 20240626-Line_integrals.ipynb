{
 "cells": [
  {
   "cell_type": "code",
   "execution_count": 1,
   "id": "abb68fd5-0de6-41b9-a918-cd968e082e21",
   "metadata": {},
   "outputs": [],
   "source": [
    "from sympy import *"
   ]
  },
  {
   "cell_type": "code",
   "execution_count": null,
   "id": "eb59a60f-41c4-4a68-8177-a7c8edbc0c9a",
   "metadata": {},
   "outputs": [],
   "source": []
  },
  {
   "cell_type": "code",
   "execution_count": 5,
   "id": "88f6db1b-af73-426e-84fd-7118b00b5d71",
   "metadata": {},
   "outputs": [
    {
     "data": {
      "text/latex": [
       "$\\displaystyle 0.102416382349567$"
      ],
      "text/plain": [
       "0.102416382349567"
      ]
     },
     "execution_count": 5,
     "metadata": {},
     "output_type": "execute_result"
    }
   ],
   "source": [
    "(acos(3/sqrt(10))/pi).evalf()"
   ]
  },
  {
   "cell_type": "markdown",
   "id": "0b979eb4-a1ab-4b02-b900-1a9785cfa631",
   "metadata": {},
   "source": [
    "## Example on page 38"
   ]
  },
  {
   "cell_type": "code",
   "execution_count": 6,
   "id": "19cc1565-e0fc-4792-89f7-97a11e287d22",
   "metadata": {},
   "outputs": [
    {
     "data": {
      "text/latex": [
       "$\\displaystyle \\frac{2}{3} + 2 \\pi$"
      ],
      "text/plain": [
       "2/3 + 2*pi"
      ]
     },
     "execution_count": 6,
     "metadata": {},
     "output_type": "execute_result"
    }
   ],
   "source": [
    "t = symbols('t')\n",
    "integrate(2+cos(t)**2 * sin(t),(t,0,pi))"
   ]
  },
  {
   "cell_type": "code",
   "execution_count": null,
   "id": "3c18b072-8957-436a-9c68-b4f0708f9a53",
   "metadata": {},
   "outputs": [],
   "source": []
  }
 ],
 "metadata": {
  "kernelspec": {
   "display_name": "Python 3 (ipykernel)",
   "language": "python",
   "name": "python3"
  },
  "language_info": {
   "codemirror_mode": {
    "name": "ipython",
    "version": 3
   },
   "file_extension": ".py",
   "mimetype": "text/x-python",
   "name": "python",
   "nbconvert_exporter": "python",
   "pygments_lexer": "ipython3",
   "version": "3.9.7"
  }
 },
 "nbformat": 4,
 "nbformat_minor": 5
}
